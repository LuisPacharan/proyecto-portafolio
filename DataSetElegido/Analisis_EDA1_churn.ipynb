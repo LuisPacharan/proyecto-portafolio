{
 "cells": [
  {
   "cell_type": "markdown",
   "id": "7c016a88-c96e-4e4b-9d3a-0ee23db2d2a6",
   "metadata": {},
   "source": [
    "# Análisis de datos de un Dataset de Kaggle.\n",
    "\n",
    "##### Con el objetivo de emplear los conocimientos aprendidos en el curso de `Análsis de datos con python` y `Crear un portafolio DataScience`, se plantea usar un DataSet extraído de la plataforma de https://www.kaggle.com/ y cubrir los siguientes puntos:"
   ]
  },
  {
   "cell_type": "markdown",
   "id": "3eda9504-bb23-4b21-9be9-9caab42bb7f0",
   "metadata": {},
   "source": [
    "1. Elegir un DataSet.\n",
    "1. Explorar los datos.\n",
    "1. Plantear preguntas.\n",
    "1. Responder las preguntas con base a un Análisis en Python.\n",
    "1. Explorar EDA Dataprep"
   ]
  },
  {
   "cell_type": "markdown",
   "id": "97521fb4-084d-4e51-8f9a-208152039d35",
   "metadata": {},
   "source": [
    "##### DataSet Elegido:  Churn para clientes bancarios\n",
    "##### Fuente: https://www.kaggle.com/mathchi/churn-for-bank-customers"
   ]
  },
  {
   "cell_type": "code",
   "execution_count": 1,
   "id": "a6c3ee17-c33c-4773-ba46-7a9411cb3407",
   "metadata": {},
   "outputs": [],
   "source": [
    "import pandas as pd"
   ]
  },
  {
   "cell_type": "code",
   "execution_count": 2,
   "id": "3370bf28-b2b7-4664-ae9f-c6ab1cd85628",
   "metadata": {},
   "outputs": [
    {
     "data": {
      "text/html": [
       "<div>\n",
       "<style scoped>\n",
       "    .dataframe tbody tr th:only-of-type {\n",
       "        vertical-align: middle;\n",
       "    }\n",
       "\n",
       "    .dataframe tbody tr th {\n",
       "        vertical-align: top;\n",
       "    }\n",
       "\n",
       "    .dataframe thead th {\n",
       "        text-align: right;\n",
       "    }\n",
       "</style>\n",
       "<table border=\"1\" class=\"dataframe\">\n",
       "  <thead>\n",
       "    <tr style=\"text-align: right;\">\n",
       "      <th></th>\n",
       "      <th>RowNumber</th>\n",
       "      <th>CustomerId</th>\n",
       "      <th>Surname</th>\n",
       "      <th>CreditScore</th>\n",
       "      <th>Geography</th>\n",
       "      <th>Gender</th>\n",
       "      <th>Age</th>\n",
       "      <th>Tenure</th>\n",
       "      <th>Balance</th>\n",
       "      <th>NumOfProducts</th>\n",
       "      <th>HasCrCard</th>\n",
       "      <th>IsActiveMember</th>\n",
       "      <th>EstimatedSalary</th>\n",
       "      <th>Exited</th>\n",
       "    </tr>\n",
       "  </thead>\n",
       "  <tbody>\n",
       "    <tr>\n",
       "      <th>0</th>\n",
       "      <td>1</td>\n",
       "      <td>15634602</td>\n",
       "      <td>Hargrave</td>\n",
       "      <td>619</td>\n",
       "      <td>France</td>\n",
       "      <td>Female</td>\n",
       "      <td>42</td>\n",
       "      <td>2</td>\n",
       "      <td>0.00</td>\n",
       "      <td>1</td>\n",
       "      <td>1</td>\n",
       "      <td>1</td>\n",
       "      <td>101348.88</td>\n",
       "      <td>1</td>\n",
       "    </tr>\n",
       "    <tr>\n",
       "      <th>1</th>\n",
       "      <td>2</td>\n",
       "      <td>15647311</td>\n",
       "      <td>Hill</td>\n",
       "      <td>608</td>\n",
       "      <td>Spain</td>\n",
       "      <td>Female</td>\n",
       "      <td>41</td>\n",
       "      <td>1</td>\n",
       "      <td>83807.86</td>\n",
       "      <td>1</td>\n",
       "      <td>0</td>\n",
       "      <td>1</td>\n",
       "      <td>112542.58</td>\n",
       "      <td>0</td>\n",
       "    </tr>\n",
       "    <tr>\n",
       "      <th>2</th>\n",
       "      <td>3</td>\n",
       "      <td>15619304</td>\n",
       "      <td>Onio</td>\n",
       "      <td>502</td>\n",
       "      <td>France</td>\n",
       "      <td>Female</td>\n",
       "      <td>42</td>\n",
       "      <td>8</td>\n",
       "      <td>159660.80</td>\n",
       "      <td>3</td>\n",
       "      <td>1</td>\n",
       "      <td>0</td>\n",
       "      <td>113931.57</td>\n",
       "      <td>1</td>\n",
       "    </tr>\n",
       "    <tr>\n",
       "      <th>3</th>\n",
       "      <td>4</td>\n",
       "      <td>15701354</td>\n",
       "      <td>Boni</td>\n",
       "      <td>699</td>\n",
       "      <td>France</td>\n",
       "      <td>Female</td>\n",
       "      <td>39</td>\n",
       "      <td>1</td>\n",
       "      <td>0.00</td>\n",
       "      <td>2</td>\n",
       "      <td>0</td>\n",
       "      <td>0</td>\n",
       "      <td>93826.63</td>\n",
       "      <td>0</td>\n",
       "    </tr>\n",
       "    <tr>\n",
       "      <th>4</th>\n",
       "      <td>5</td>\n",
       "      <td>15737888</td>\n",
       "      <td>Mitchell</td>\n",
       "      <td>850</td>\n",
       "      <td>Spain</td>\n",
       "      <td>Female</td>\n",
       "      <td>43</td>\n",
       "      <td>2</td>\n",
       "      <td>125510.82</td>\n",
       "      <td>1</td>\n",
       "      <td>1</td>\n",
       "      <td>1</td>\n",
       "      <td>79084.10</td>\n",
       "      <td>0</td>\n",
       "    </tr>\n",
       "    <tr>\n",
       "      <th>...</th>\n",
       "      <td>...</td>\n",
       "      <td>...</td>\n",
       "      <td>...</td>\n",
       "      <td>...</td>\n",
       "      <td>...</td>\n",
       "      <td>...</td>\n",
       "      <td>...</td>\n",
       "      <td>...</td>\n",
       "      <td>...</td>\n",
       "      <td>...</td>\n",
       "      <td>...</td>\n",
       "      <td>...</td>\n",
       "      <td>...</td>\n",
       "      <td>...</td>\n",
       "    </tr>\n",
       "    <tr>\n",
       "      <th>9995</th>\n",
       "      <td>9996</td>\n",
       "      <td>15606229</td>\n",
       "      <td>Obijiaku</td>\n",
       "      <td>771</td>\n",
       "      <td>France</td>\n",
       "      <td>Male</td>\n",
       "      <td>39</td>\n",
       "      <td>5</td>\n",
       "      <td>0.00</td>\n",
       "      <td>2</td>\n",
       "      <td>1</td>\n",
       "      <td>0</td>\n",
       "      <td>96270.64</td>\n",
       "      <td>0</td>\n",
       "    </tr>\n",
       "    <tr>\n",
       "      <th>9996</th>\n",
       "      <td>9997</td>\n",
       "      <td>15569892</td>\n",
       "      <td>Johnstone</td>\n",
       "      <td>516</td>\n",
       "      <td>France</td>\n",
       "      <td>Male</td>\n",
       "      <td>35</td>\n",
       "      <td>10</td>\n",
       "      <td>57369.61</td>\n",
       "      <td>1</td>\n",
       "      <td>1</td>\n",
       "      <td>1</td>\n",
       "      <td>101699.77</td>\n",
       "      <td>0</td>\n",
       "    </tr>\n",
       "    <tr>\n",
       "      <th>9997</th>\n",
       "      <td>9998</td>\n",
       "      <td>15584532</td>\n",
       "      <td>Liu</td>\n",
       "      <td>709</td>\n",
       "      <td>France</td>\n",
       "      <td>Female</td>\n",
       "      <td>36</td>\n",
       "      <td>7</td>\n",
       "      <td>0.00</td>\n",
       "      <td>1</td>\n",
       "      <td>0</td>\n",
       "      <td>1</td>\n",
       "      <td>42085.58</td>\n",
       "      <td>1</td>\n",
       "    </tr>\n",
       "    <tr>\n",
       "      <th>9998</th>\n",
       "      <td>9999</td>\n",
       "      <td>15682355</td>\n",
       "      <td>Sabbatini</td>\n",
       "      <td>772</td>\n",
       "      <td>Germany</td>\n",
       "      <td>Male</td>\n",
       "      <td>42</td>\n",
       "      <td>3</td>\n",
       "      <td>75075.31</td>\n",
       "      <td>2</td>\n",
       "      <td>1</td>\n",
       "      <td>0</td>\n",
       "      <td>92888.52</td>\n",
       "      <td>1</td>\n",
       "    </tr>\n",
       "    <tr>\n",
       "      <th>9999</th>\n",
       "      <td>10000</td>\n",
       "      <td>15628319</td>\n",
       "      <td>Walker</td>\n",
       "      <td>792</td>\n",
       "      <td>France</td>\n",
       "      <td>Female</td>\n",
       "      <td>28</td>\n",
       "      <td>4</td>\n",
       "      <td>130142.79</td>\n",
       "      <td>1</td>\n",
       "      <td>1</td>\n",
       "      <td>0</td>\n",
       "      <td>38190.78</td>\n",
       "      <td>0</td>\n",
       "    </tr>\n",
       "  </tbody>\n",
       "</table>\n",
       "<p>10000 rows × 14 columns</p>\n",
       "</div>"
      ],
      "text/plain": [
       "      RowNumber  CustomerId    Surname  CreditScore Geography  Gender  Age  \\\n",
       "0             1    15634602   Hargrave          619    France  Female   42   \n",
       "1             2    15647311       Hill          608     Spain  Female   41   \n",
       "2             3    15619304       Onio          502    France  Female   42   \n",
       "3             4    15701354       Boni          699    France  Female   39   \n",
       "4             5    15737888   Mitchell          850     Spain  Female   43   \n",
       "...         ...         ...        ...          ...       ...     ...  ...   \n",
       "9995       9996    15606229   Obijiaku          771    France    Male   39   \n",
       "9996       9997    15569892  Johnstone          516    France    Male   35   \n",
       "9997       9998    15584532        Liu          709    France  Female   36   \n",
       "9998       9999    15682355  Sabbatini          772   Germany    Male   42   \n",
       "9999      10000    15628319     Walker          792    France  Female   28   \n",
       "\n",
       "      Tenure    Balance  NumOfProducts  HasCrCard  IsActiveMember  \\\n",
       "0          2       0.00              1          1               1   \n",
       "1          1   83807.86              1          0               1   \n",
       "2          8  159660.80              3          1               0   \n",
       "3          1       0.00              2          0               0   \n",
       "4          2  125510.82              1          1               1   \n",
       "...      ...        ...            ...        ...             ...   \n",
       "9995       5       0.00              2          1               0   \n",
       "9996      10   57369.61              1          1               1   \n",
       "9997       7       0.00              1          0               1   \n",
       "9998       3   75075.31              2          1               0   \n",
       "9999       4  130142.79              1          1               0   \n",
       "\n",
       "      EstimatedSalary  Exited  \n",
       "0           101348.88       1  \n",
       "1           112542.58       0  \n",
       "2           113931.57       1  \n",
       "3            93826.63       0  \n",
       "4            79084.10       0  \n",
       "...               ...     ...  \n",
       "9995         96270.64       0  \n",
       "9996        101699.77       0  \n",
       "9997         42085.58       1  \n",
       "9998         92888.52       1  \n",
       "9999         38190.78       0  \n",
       "\n",
       "[10000 rows x 14 columns]"
      ]
     },
     "execution_count": 2,
     "metadata": {},
     "output_type": "execute_result"
    }
   ],
   "source": [
    "pd.read_csv('./../data/churn.csv')"
   ]
  },
  {
   "cell_type": "markdown",
   "id": "9a7c0e07-ddac-4c00-851f-675101b5beda",
   "metadata": {},
   "source": [
    "##### Renombramos la fuente de datos como `datos_churn` y visualizamos el encabezado de datos."
   ]
  },
  {
   "cell_type": "code",
   "execution_count": 3,
   "id": "790688fd-cd42-454e-9983-a0e91dca65c0",
   "metadata": {},
   "outputs": [
    {
     "data": {
      "text/html": [
       "<div>\n",
       "<style scoped>\n",
       "    .dataframe tbody tr th:only-of-type {\n",
       "        vertical-align: middle;\n",
       "    }\n",
       "\n",
       "    .dataframe tbody tr th {\n",
       "        vertical-align: top;\n",
       "    }\n",
       "\n",
       "    .dataframe thead th {\n",
       "        text-align: right;\n",
       "    }\n",
       "</style>\n",
       "<table border=\"1\" class=\"dataframe\">\n",
       "  <thead>\n",
       "    <tr style=\"text-align: right;\">\n",
       "      <th></th>\n",
       "      <th>RowNumber</th>\n",
       "      <th>CustomerId</th>\n",
       "      <th>Surname</th>\n",
       "      <th>CreditScore</th>\n",
       "      <th>Geography</th>\n",
       "      <th>Gender</th>\n",
       "      <th>Age</th>\n",
       "      <th>Tenure</th>\n",
       "      <th>Balance</th>\n",
       "      <th>NumOfProducts</th>\n",
       "      <th>HasCrCard</th>\n",
       "      <th>IsActiveMember</th>\n",
       "      <th>EstimatedSalary</th>\n",
       "      <th>Exited</th>\n",
       "    </tr>\n",
       "  </thead>\n",
       "  <tbody>\n",
       "    <tr>\n",
       "      <th>0</th>\n",
       "      <td>1</td>\n",
       "      <td>15634602</td>\n",
       "      <td>Hargrave</td>\n",
       "      <td>619</td>\n",
       "      <td>France</td>\n",
       "      <td>Female</td>\n",
       "      <td>42</td>\n",
       "      <td>2</td>\n",
       "      <td>0.00</td>\n",
       "      <td>1</td>\n",
       "      <td>1</td>\n",
       "      <td>1</td>\n",
       "      <td>101348.88</td>\n",
       "      <td>1</td>\n",
       "    </tr>\n",
       "    <tr>\n",
       "      <th>1</th>\n",
       "      <td>2</td>\n",
       "      <td>15647311</td>\n",
       "      <td>Hill</td>\n",
       "      <td>608</td>\n",
       "      <td>Spain</td>\n",
       "      <td>Female</td>\n",
       "      <td>41</td>\n",
       "      <td>1</td>\n",
       "      <td>83807.86</td>\n",
       "      <td>1</td>\n",
       "      <td>0</td>\n",
       "      <td>1</td>\n",
       "      <td>112542.58</td>\n",
       "      <td>0</td>\n",
       "    </tr>\n",
       "    <tr>\n",
       "      <th>2</th>\n",
       "      <td>3</td>\n",
       "      <td>15619304</td>\n",
       "      <td>Onio</td>\n",
       "      <td>502</td>\n",
       "      <td>France</td>\n",
       "      <td>Female</td>\n",
       "      <td>42</td>\n",
       "      <td>8</td>\n",
       "      <td>159660.80</td>\n",
       "      <td>3</td>\n",
       "      <td>1</td>\n",
       "      <td>0</td>\n",
       "      <td>113931.57</td>\n",
       "      <td>1</td>\n",
       "    </tr>\n",
       "    <tr>\n",
       "      <th>3</th>\n",
       "      <td>4</td>\n",
       "      <td>15701354</td>\n",
       "      <td>Boni</td>\n",
       "      <td>699</td>\n",
       "      <td>France</td>\n",
       "      <td>Female</td>\n",
       "      <td>39</td>\n",
       "      <td>1</td>\n",
       "      <td>0.00</td>\n",
       "      <td>2</td>\n",
       "      <td>0</td>\n",
       "      <td>0</td>\n",
       "      <td>93826.63</td>\n",
       "      <td>0</td>\n",
       "    </tr>\n",
       "    <tr>\n",
       "      <th>4</th>\n",
       "      <td>5</td>\n",
       "      <td>15737888</td>\n",
       "      <td>Mitchell</td>\n",
       "      <td>850</td>\n",
       "      <td>Spain</td>\n",
       "      <td>Female</td>\n",
       "      <td>43</td>\n",
       "      <td>2</td>\n",
       "      <td>125510.82</td>\n",
       "      <td>1</td>\n",
       "      <td>1</td>\n",
       "      <td>1</td>\n",
       "      <td>79084.10</td>\n",
       "      <td>0</td>\n",
       "    </tr>\n",
       "  </tbody>\n",
       "</table>\n",
       "</div>"
      ],
      "text/plain": [
       "   RowNumber  CustomerId   Surname  CreditScore Geography  Gender  Age  \\\n",
       "0          1    15634602  Hargrave          619    France  Female   42   \n",
       "1          2    15647311      Hill          608     Spain  Female   41   \n",
       "2          3    15619304      Onio          502    France  Female   42   \n",
       "3          4    15701354      Boni          699    France  Female   39   \n",
       "4          5    15737888  Mitchell          850     Spain  Female   43   \n",
       "\n",
       "   Tenure    Balance  NumOfProducts  HasCrCard  IsActiveMember  \\\n",
       "0       2       0.00              1          1               1   \n",
       "1       1   83807.86              1          0               1   \n",
       "2       8  159660.80              3          1               0   \n",
       "3       1       0.00              2          0               0   \n",
       "4       2  125510.82              1          1               1   \n",
       "\n",
       "   EstimatedSalary  Exited  \n",
       "0        101348.88       1  \n",
       "1        112542.58       0  \n",
       "2        113931.57       1  \n",
       "3         93826.63       0  \n",
       "4         79084.10       0  "
      ]
     },
     "execution_count": 3,
     "metadata": {},
     "output_type": "execute_result"
    }
   ],
   "source": [
    "datos_churn=pd.read_csv('./../data/churn.csv')\n",
    "datos_churn.head()\n"
   ]
  },
  {
   "cell_type": "markdown",
   "id": "14c4c518-24ca-411d-bc5e-1f46b9e92ad8",
   "metadata": {
    "tags": []
   },
   "source": [
    "# Explorando Datos\n",
    "\n",
    "##### Aplicar un `shape` , para revisar la dimensión de los datos (filas, columnas)"
   ]
  },
  {
   "cell_type": "code",
   "execution_count": 4,
   "id": "4c749cd8-9b39-456c-9be3-2920b14d4b17",
   "metadata": {},
   "outputs": [
    {
     "data": {
      "text/plain": [
       "(10000, 14)"
      ]
     },
     "execution_count": 4,
     "metadata": {},
     "output_type": "execute_result"
    }
   ],
   "source": [
    "datos_churn.shape "
   ]
  },
  {
   "cell_type": "markdown",
   "id": "e5ac2f3e-519c-4375-aee1-673f68d500af",
   "metadata": {},
   "source": [
    "##### Aplicando un `dtypes` para revisar el tipo de dato de cada campo"
   ]
  },
  {
   "cell_type": "code",
   "execution_count": 5,
   "id": "36592351-abf8-47e7-9577-78a2b6082447",
   "metadata": {},
   "outputs": [
    {
     "data": {
      "text/plain": [
       "RowNumber            int64\n",
       "CustomerId           int64\n",
       "Surname             object\n",
       "CreditScore          int64\n",
       "Geography           object\n",
       "Gender              object\n",
       "Age                  int64\n",
       "Tenure               int64\n",
       "Balance            float64\n",
       "NumOfProducts        int64\n",
       "HasCrCard            int64\n",
       "IsActiveMember       int64\n",
       "EstimatedSalary    float64\n",
       "Exited               int64\n",
       "dtype: object"
      ]
     },
     "execution_count": 5,
     "metadata": {},
     "output_type": "execute_result"
    }
   ],
   "source": [
    "datos_churn.dtypes"
   ]
  },
  {
   "cell_type": "markdown",
   "id": "5405add6-aa32-45fd-84c0-0cfc36024157",
   "metadata": {},
   "source": [
    "# Planteamiento de Preguntas"
   ]
  },
  {
   "cell_type": "markdown",
   "id": "91d645dc-c9b1-46b9-9c8b-39b9f4491ee5",
   "metadata": {},
   "source": [
    "##### 1. ¿Cuál es la totalidad de registros en la cartera del banco?\n",
    "\n",
    "##### 2. ¿Qué paises participan en la cartera del banco?\n",
    "\n",
    "##### 3. ¿Cuántos clientes activos y desactivos pertenecen aún en la base?\n",
    "\n",
    "##### 4. ¿Cuánto es el número de abandono por género, en cada país? \n",
    "\n",
    "##### 5. ¿Cuál es la edad promedio de mayor abandodo en el banco?\n",
    "\n",
    "##### 6. ¿Cuál es edad mínima y máxima de los clientes del banco?\n",
    "\n",
    "##### 7. ¿Cuál es la edad promedio de mayor abandodo por cada país?\n",
    "\n",
    "##### 8. ¿Cuál es el saldo deudor de los clientes que han abandonado la cartera?\n",
    "\n",
    "##### 9. ¿Cuál es el saldo deudor de los clientes que están en riesgo de abandono?\n",
    "\n",
    "##### 10. ¿Cúal es el saldo deudor de la cartera por género?\n",
    "\n",
    "##### 11. Algunas estadísticas con el CreditScore: \n",
    "\n",
    "##### 12. Ejemplos de (EDA) Análisis de Datos Exploratorios con `DataPrep`"
   ]
  },
  {
   "cell_type": "markdown",
   "id": "cba17271-5f35-47f0-8e32-cc63a6e396ba",
   "metadata": {},
   "source": [
    "##### Validar valores duplicados aplicando un `drop_duplicates`"
   ]
  },
  {
   "cell_type": "code",
   "execution_count": 6,
   "id": "a261b270-a03d-4add-a171-7b0cceddb9cf",
   "metadata": {},
   "outputs": [
    {
     "data": {
      "text/html": [
       "<div>\n",
       "<style scoped>\n",
       "    .dataframe tbody tr th:only-of-type {\n",
       "        vertical-align: middle;\n",
       "    }\n",
       "\n",
       "    .dataframe tbody tr th {\n",
       "        vertical-align: top;\n",
       "    }\n",
       "\n",
       "    .dataframe thead th {\n",
       "        text-align: right;\n",
       "    }\n",
       "</style>\n",
       "<table border=\"1\" class=\"dataframe\">\n",
       "  <thead>\n",
       "    <tr style=\"text-align: right;\">\n",
       "      <th></th>\n",
       "      <th>RowNumber</th>\n",
       "      <th>CustomerId</th>\n",
       "      <th>Surname</th>\n",
       "      <th>CreditScore</th>\n",
       "      <th>Geography</th>\n",
       "      <th>Gender</th>\n",
       "      <th>Age</th>\n",
       "      <th>Tenure</th>\n",
       "      <th>Balance</th>\n",
       "      <th>NumOfProducts</th>\n",
       "      <th>HasCrCard</th>\n",
       "      <th>IsActiveMember</th>\n",
       "      <th>EstimatedSalary</th>\n",
       "      <th>Exited</th>\n",
       "    </tr>\n",
       "  </thead>\n",
       "  <tbody>\n",
       "    <tr>\n",
       "      <th>0</th>\n",
       "      <td>1</td>\n",
       "      <td>15634602</td>\n",
       "      <td>Hargrave</td>\n",
       "      <td>619</td>\n",
       "      <td>France</td>\n",
       "      <td>Female</td>\n",
       "      <td>42</td>\n",
       "      <td>2</td>\n",
       "      <td>0.00</td>\n",
       "      <td>1</td>\n",
       "      <td>1</td>\n",
       "      <td>1</td>\n",
       "      <td>101348.88</td>\n",
       "      <td>1</td>\n",
       "    </tr>\n",
       "    <tr>\n",
       "      <th>1</th>\n",
       "      <td>2</td>\n",
       "      <td>15647311</td>\n",
       "      <td>Hill</td>\n",
       "      <td>608</td>\n",
       "      <td>Spain</td>\n",
       "      <td>Female</td>\n",
       "      <td>41</td>\n",
       "      <td>1</td>\n",
       "      <td>83807.86</td>\n",
       "      <td>1</td>\n",
       "      <td>0</td>\n",
       "      <td>1</td>\n",
       "      <td>112542.58</td>\n",
       "      <td>0</td>\n",
       "    </tr>\n",
       "    <tr>\n",
       "      <th>2</th>\n",
       "      <td>3</td>\n",
       "      <td>15619304</td>\n",
       "      <td>Onio</td>\n",
       "      <td>502</td>\n",
       "      <td>France</td>\n",
       "      <td>Female</td>\n",
       "      <td>42</td>\n",
       "      <td>8</td>\n",
       "      <td>159660.80</td>\n",
       "      <td>3</td>\n",
       "      <td>1</td>\n",
       "      <td>0</td>\n",
       "      <td>113931.57</td>\n",
       "      <td>1</td>\n",
       "    </tr>\n",
       "    <tr>\n",
       "      <th>3</th>\n",
       "      <td>4</td>\n",
       "      <td>15701354</td>\n",
       "      <td>Boni</td>\n",
       "      <td>699</td>\n",
       "      <td>France</td>\n",
       "      <td>Female</td>\n",
       "      <td>39</td>\n",
       "      <td>1</td>\n",
       "      <td>0.00</td>\n",
       "      <td>2</td>\n",
       "      <td>0</td>\n",
       "      <td>0</td>\n",
       "      <td>93826.63</td>\n",
       "      <td>0</td>\n",
       "    </tr>\n",
       "    <tr>\n",
       "      <th>4</th>\n",
       "      <td>5</td>\n",
       "      <td>15737888</td>\n",
       "      <td>Mitchell</td>\n",
       "      <td>850</td>\n",
       "      <td>Spain</td>\n",
       "      <td>Female</td>\n",
       "      <td>43</td>\n",
       "      <td>2</td>\n",
       "      <td>125510.82</td>\n",
       "      <td>1</td>\n",
       "      <td>1</td>\n",
       "      <td>1</td>\n",
       "      <td>79084.10</td>\n",
       "      <td>0</td>\n",
       "    </tr>\n",
       "    <tr>\n",
       "      <th>...</th>\n",
       "      <td>...</td>\n",
       "      <td>...</td>\n",
       "      <td>...</td>\n",
       "      <td>...</td>\n",
       "      <td>...</td>\n",
       "      <td>...</td>\n",
       "      <td>...</td>\n",
       "      <td>...</td>\n",
       "      <td>...</td>\n",
       "      <td>...</td>\n",
       "      <td>...</td>\n",
       "      <td>...</td>\n",
       "      <td>...</td>\n",
       "      <td>...</td>\n",
       "    </tr>\n",
       "    <tr>\n",
       "      <th>9995</th>\n",
       "      <td>9996</td>\n",
       "      <td>15606229</td>\n",
       "      <td>Obijiaku</td>\n",
       "      <td>771</td>\n",
       "      <td>France</td>\n",
       "      <td>Male</td>\n",
       "      <td>39</td>\n",
       "      <td>5</td>\n",
       "      <td>0.00</td>\n",
       "      <td>2</td>\n",
       "      <td>1</td>\n",
       "      <td>0</td>\n",
       "      <td>96270.64</td>\n",
       "      <td>0</td>\n",
       "    </tr>\n",
       "    <tr>\n",
       "      <th>9996</th>\n",
       "      <td>9997</td>\n",
       "      <td>15569892</td>\n",
       "      <td>Johnstone</td>\n",
       "      <td>516</td>\n",
       "      <td>France</td>\n",
       "      <td>Male</td>\n",
       "      <td>35</td>\n",
       "      <td>10</td>\n",
       "      <td>57369.61</td>\n",
       "      <td>1</td>\n",
       "      <td>1</td>\n",
       "      <td>1</td>\n",
       "      <td>101699.77</td>\n",
       "      <td>0</td>\n",
       "    </tr>\n",
       "    <tr>\n",
       "      <th>9997</th>\n",
       "      <td>9998</td>\n",
       "      <td>15584532</td>\n",
       "      <td>Liu</td>\n",
       "      <td>709</td>\n",
       "      <td>France</td>\n",
       "      <td>Female</td>\n",
       "      <td>36</td>\n",
       "      <td>7</td>\n",
       "      <td>0.00</td>\n",
       "      <td>1</td>\n",
       "      <td>0</td>\n",
       "      <td>1</td>\n",
       "      <td>42085.58</td>\n",
       "      <td>1</td>\n",
       "    </tr>\n",
       "    <tr>\n",
       "      <th>9998</th>\n",
       "      <td>9999</td>\n",
       "      <td>15682355</td>\n",
       "      <td>Sabbatini</td>\n",
       "      <td>772</td>\n",
       "      <td>Germany</td>\n",
       "      <td>Male</td>\n",
       "      <td>42</td>\n",
       "      <td>3</td>\n",
       "      <td>75075.31</td>\n",
       "      <td>2</td>\n",
       "      <td>1</td>\n",
       "      <td>0</td>\n",
       "      <td>92888.52</td>\n",
       "      <td>1</td>\n",
       "    </tr>\n",
       "    <tr>\n",
       "      <th>9999</th>\n",
       "      <td>10000</td>\n",
       "      <td>15628319</td>\n",
       "      <td>Walker</td>\n",
       "      <td>792</td>\n",
       "      <td>France</td>\n",
       "      <td>Female</td>\n",
       "      <td>28</td>\n",
       "      <td>4</td>\n",
       "      <td>130142.79</td>\n",
       "      <td>1</td>\n",
       "      <td>1</td>\n",
       "      <td>0</td>\n",
       "      <td>38190.78</td>\n",
       "      <td>0</td>\n",
       "    </tr>\n",
       "  </tbody>\n",
       "</table>\n",
       "<p>10000 rows × 14 columns</p>\n",
       "</div>"
      ],
      "text/plain": [
       "      RowNumber  CustomerId    Surname  CreditScore Geography  Gender  Age  \\\n",
       "0             1    15634602   Hargrave          619    France  Female   42   \n",
       "1             2    15647311       Hill          608     Spain  Female   41   \n",
       "2             3    15619304       Onio          502    France  Female   42   \n",
       "3             4    15701354       Boni          699    France  Female   39   \n",
       "4             5    15737888   Mitchell          850     Spain  Female   43   \n",
       "...         ...         ...        ...          ...       ...     ...  ...   \n",
       "9995       9996    15606229   Obijiaku          771    France    Male   39   \n",
       "9996       9997    15569892  Johnstone          516    France    Male   35   \n",
       "9997       9998    15584532        Liu          709    France  Female   36   \n",
       "9998       9999    15682355  Sabbatini          772   Germany    Male   42   \n",
       "9999      10000    15628319     Walker          792    France  Female   28   \n",
       "\n",
       "      Tenure    Balance  NumOfProducts  HasCrCard  IsActiveMember  \\\n",
       "0          2       0.00              1          1               1   \n",
       "1          1   83807.86              1          0               1   \n",
       "2          8  159660.80              3          1               0   \n",
       "3          1       0.00              2          0               0   \n",
       "4          2  125510.82              1          1               1   \n",
       "...      ...        ...            ...        ...             ...   \n",
       "9995       5       0.00              2          1               0   \n",
       "9996      10   57369.61              1          1               1   \n",
       "9997       7       0.00              1          0               1   \n",
       "9998       3   75075.31              2          1               0   \n",
       "9999       4  130142.79              1          1               0   \n",
       "\n",
       "      EstimatedSalary  Exited  \n",
       "0           101348.88       1  \n",
       "1           112542.58       0  \n",
       "2           113931.57       1  \n",
       "3            93826.63       0  \n",
       "4            79084.10       0  \n",
       "...               ...     ...  \n",
       "9995         96270.64       0  \n",
       "9996        101699.77       0  \n",
       "9997         42085.58       1  \n",
       "9998         92888.52       1  \n",
       "9999         38190.78       0  \n",
       "\n",
       "[10000 rows x 14 columns]"
      ]
     },
     "execution_count": 6,
     "metadata": {},
     "output_type": "execute_result"
    }
   ],
   "source": [
    "datos_churn.drop_duplicates()"
   ]
  },
  {
   "cell_type": "markdown",
   "id": "dc479cd5-cac0-497e-870f-a4fd1bc8f574",
   "metadata": {},
   "source": [
    "### 1.¿Cuál es la totalidad de registros en la cartera del banco?"
   ]
  },
  {
   "cell_type": "code",
   "execution_count": 7,
   "id": "36929902-71cd-486b-8d24-89981be81523",
   "metadata": {},
   "outputs": [
    {
     "data": {
      "text/plain": [
       "10000"
      ]
     },
     "execution_count": 7,
     "metadata": {},
     "output_type": "execute_result"
    }
   ],
   "source": [
    "datos_churn['CustomerId'].count()"
   ]
  },
  {
   "cell_type": "markdown",
   "id": "93e27ed6-95e7-476e-9515-a68cfc6ac372",
   "metadata": {},
   "source": [
    "### 2.¿Qué paises participan en la cartera del banco?"
   ]
  },
  {
   "cell_type": "code",
   "execution_count": 8,
   "id": "43f6088e-5684-424e-9ad7-eb4f6406aa8f",
   "metadata": {},
   "outputs": [
    {
     "data": {
      "text/plain": [
       "array(['France', 'Spain', 'Germany'], dtype=object)"
      ]
     },
     "execution_count": 8,
     "metadata": {},
     "output_type": "execute_result"
    }
   ],
   "source": [
    "datos_churn['Geography'].unique()"
   ]
  },
  {
   "cell_type": "markdown",
   "id": "1cf3fbb2-0c64-4956-878a-636b8d5ba236",
   "metadata": {},
   "source": [
    "##### Aplicando un agrupado por paises utilizando `groupby`"
   ]
  },
  {
   "cell_type": "code",
   "execution_count": 9,
   "id": "20ef835c-4743-447b-8455-e21874f90fb6",
   "metadata": {},
   "outputs": [
    {
     "data": {
      "text/html": [
       "<div>\n",
       "<style scoped>\n",
       "    .dataframe tbody tr th:only-of-type {\n",
       "        vertical-align: middle;\n",
       "    }\n",
       "\n",
       "    .dataframe tbody tr th {\n",
       "        vertical-align: top;\n",
       "    }\n",
       "\n",
       "    .dataframe thead th {\n",
       "        text-align: right;\n",
       "    }\n",
       "</style>\n",
       "<table border=\"1\" class=\"dataframe\">\n",
       "  <thead>\n",
       "    <tr style=\"text-align: right;\">\n",
       "      <th></th>\n",
       "      <th>Geography</th>\n",
       "      <th>RowNumber</th>\n",
       "    </tr>\n",
       "  </thead>\n",
       "  <tbody>\n",
       "    <tr>\n",
       "      <th>0</th>\n",
       "      <td>France</td>\n",
       "      <td>5014</td>\n",
       "    </tr>\n",
       "    <tr>\n",
       "      <th>1</th>\n",
       "      <td>Germany</td>\n",
       "      <td>2509</td>\n",
       "    </tr>\n",
       "    <tr>\n",
       "      <th>2</th>\n",
       "      <td>Spain</td>\n",
       "      <td>2477</td>\n",
       "    </tr>\n",
       "  </tbody>\n",
       "</table>\n",
       "</div>"
      ],
      "text/plain": [
       "  Geography  RowNumber\n",
       "0    France       5014\n",
       "1   Germany       2509\n",
       "2     Spain       2477"
      ]
     },
     "execution_count": 9,
     "metadata": {},
     "output_type": "execute_result"
    }
   ],
   "source": [
    "\n",
    "paises = datos_churn.groupby(['Geography']).count().reset_index()\n",
    "paises =paises.drop(['CustomerId','Surname','CreditScore','Gender','Age','IsActiveMember',\n",
    "                          'Tenure','Balance','NumOfProducts','HasCrCard',\n",
    "                           'EstimatedSalary','Exited'\n",
    "                          ],axis=1)\n",
    "paises"
   ]
  },
  {
   "cell_type": "markdown",
   "id": "a1426462-2353-4485-8b8f-0514970b2d46",
   "metadata": {},
   "source": [
    "##### Importar libreria `matplotlib.pyplot` para realizar una representación gráfica de los resultados obtenidos"
   ]
  },
  {
   "cell_type": "code",
   "execution_count": 10,
   "id": "89fe729e-0d7a-44e2-8149-cab99922aebe",
   "metadata": {},
   "outputs": [
    {
     "data": {
      "image/png": "[encoded data removed]",
      "text/plain": [
       "<Figure size 432x288 with 1 Axes>"
      ]
     },
     "metadata": {
      "needs_background": "light"
     },
     "output_type": "display_data"
    }
   ],
   "source": [
    "import matplotlib.pyplot as plt\n",
    "\n",
    "paises = datos_churn.groupby(['Geography']).count().reset_index()\n",
    "paises\n",
    "\n",
    "paises= paises.sort_values('Geography',ascending = False)\n",
    "\n",
    "plt.bar(paises['Geography'],paises['RowNumber'],\n",
    "       color=['r','y','b'])\n",
    "plt.show()"
   ]
  },
  {
   "cell_type": "markdown",
   "id": "2e96292c-a243-4ade-a320-a14b48e4b9d9",
   "metadata": {},
   "source": [
    "### 3.¿Cuántos clientes activos y desactivos pertenecen aún en la base?"
   ]
  },
  {
   "cell_type": "markdown",
   "id": "e3214748-20d4-47d1-a8e7-7ddc4082dd7e",
   "metadata": {},
   "source": [
    "##### Aplicando un `value_counts` para el coneto único de valores"
   ]
  },
  {
   "cell_type": "code",
   "execution_count": 11,
   "id": "baa2b87c-43bc-46e5-8e5a-ede15978f0fd",
   "metadata": {},
   "outputs": [
    {
     "data": {
      "text/plain": [
       "1    5151\n",
       "0    4849\n",
       "Name: IsActiveMember, dtype: int64"
      ]
     },
     "execution_count": 11,
     "metadata": {},
     "output_type": "execute_result"
    }
   ],
   "source": [
    "datos = datos_churn['IsActiveMember'].value_counts()\n",
    "datos"
   ]
  },
  {
   "cell_type": "markdown",
   "id": "1214a1aa-4665-4928-860c-16d65daf93a9",
   "metadata": {},
   "source": [
    "##### Descartando campos con ayuda de `reset_index` para visualizar el resultado"
   ]
  },
  {
   "cell_type": "code",
   "execution_count": 12,
   "id": "73c110d2-7371-43cd-8d03-1b365b24d79d",
   "metadata": {},
   "outputs": [
    {
     "data": {
      "text/html": [
       "<div>\n",
       "<style scoped>\n",
       "    .dataframe tbody tr th:only-of-type {\n",
       "        vertical-align: middle;\n",
       "    }\n",
       "\n",
       "    .dataframe tbody tr th {\n",
       "        vertical-align: top;\n",
       "    }\n",
       "\n",
       "    .dataframe thead th {\n",
       "        text-align: right;\n",
       "    }\n",
       "</style>\n",
       "<table border=\"1\" class=\"dataframe\">\n",
       "  <thead>\n",
       "    <tr style=\"text-align: right;\">\n",
       "      <th></th>\n",
       "      <th>RowNumber</th>\n",
       "    </tr>\n",
       "  </thead>\n",
       "  <tbody>\n",
       "    <tr>\n",
       "      <th>0</th>\n",
       "      <td>4849</td>\n",
       "    </tr>\n",
       "    <tr>\n",
       "      <th>1</th>\n",
       "      <td>5151</td>\n",
       "    </tr>\n",
       "  </tbody>\n",
       "</table>\n",
       "</div>"
      ],
      "text/plain": [
       "   RowNumber\n",
       "0       4849\n",
       "1       5151"
      ]
     },
     "execution_count": 12,
     "metadata": {},
     "output_type": "execute_result"
    }
   ],
   "source": [
    "clientes = datos_churn.groupby(['IsActiveMember']).count().reset_index()\n",
    "clientes =clientes.drop(['CustomerId','Surname','CreditScore','Gender','Age','IsActiveMember',\n",
    "                          'Tenure','Balance','NumOfProducts','HasCrCard',\n",
    "                           'EstimatedSalary','Exited','Geography'\n",
    "                          ],axis=1)\n",
    "clientes"
   ]
  },
  {
   "cell_type": "markdown",
   "id": "a4b0dc15-603e-4141-b809-77b46de90626",
   "metadata": {},
   "source": [
    "##### Para represntar el resultado y obtener una gráfica circular, con ayuda de `matplotlib`, y el método `.pie`, se realiza el siguiente código."
   ]
  },
  {
   "cell_type": "code",
   "execution_count": 13,
   "id": "93a6ba08-6402-4bb3-9a44-06c954489b56",
   "metadata": {},
   "outputs": [
    {
     "data": {
      "image/png": "[encoded data removed]",
      "text/plain": [
       "<Figure size 432x288 with 1 Axes>"
      ]
     },
     "metadata": {},
     "output_type": "display_data"
    }
   ],
   "source": [
    "import matplotlib.pyplot as plt\n",
    "\n",
    "abandono_n = '#000000'\n",
    "riesgo_r   = '#D91023'\n",
    "\n",
    "plt.pie(clientes['RowNumber'],\n",
    "    labels = clientes['RowNumber'],\n",
    "    colors =[abandono_n,riesgo_r],\n",
    "       wedgeprops= dict(width=0.5))\n",
    "plt.show()"
   ]
  },
  {
   "cell_type": "markdown",
   "id": "52b54e0d-97f9-4178-816e-1c866aec0642",
   "metadata": {},
   "source": [
    "### 4. ¿Cuánto es el número de abandono por género, en cada país?"
   ]
  },
  {
   "cell_type": "markdown",
   "id": "6e76e2fc-2617-462d-b32a-11c000fb6e87",
   "metadata": {},
   "source": [
    "##### Extracción de datos a utilizar.\n",
    "##### A continuación se genera una base filtrando solo los campos que nos serán útiles."
   ]
  },
  {
   "cell_type": "code",
   "execution_count": 14,
   "id": "4c2bfda7-2e49-4287-99b3-91646d00d544",
   "metadata": {},
   "outputs": [
    {
     "data": {
      "text/html": [
       "<div>\n",
       "<style scoped>\n",
       "    .dataframe tbody tr th:only-of-type {\n",
       "        vertical-align: middle;\n",
       "    }\n",
       "\n",
       "    .dataframe tbody tr th {\n",
       "        vertical-align: top;\n",
       "    }\n",
       "\n",
       "    .dataframe thead th {\n",
       "        text-align: right;\n",
       "    }\n",
       "</style>\n",
       "<table border=\"1\" class=\"dataframe\">\n",
       "  <thead>\n",
       "    <tr style=\"text-align: right;\">\n",
       "      <th></th>\n",
       "      <th>Geography</th>\n",
       "      <th>Gender</th>\n",
       "      <th>IsActiveMember</th>\n",
       "    </tr>\n",
       "  </thead>\n",
       "  <tbody>\n",
       "    <tr>\n",
       "      <th>0</th>\n",
       "      <td>France</td>\n",
       "      <td>Female</td>\n",
       "      <td>2261</td>\n",
       "    </tr>\n",
       "    <tr>\n",
       "      <th>1</th>\n",
       "      <td>France</td>\n",
       "      <td>Male</td>\n",
       "      <td>2753</td>\n",
       "    </tr>\n",
       "    <tr>\n",
       "      <th>2</th>\n",
       "      <td>Germany</td>\n",
       "      <td>Female</td>\n",
       "      <td>1193</td>\n",
       "    </tr>\n",
       "    <tr>\n",
       "      <th>3</th>\n",
       "      <td>Germany</td>\n",
       "      <td>Male</td>\n",
       "      <td>1316</td>\n",
       "    </tr>\n",
       "    <tr>\n",
       "      <th>4</th>\n",
       "      <td>Spain</td>\n",
       "      <td>Female</td>\n",
       "      <td>1089</td>\n",
       "    </tr>\n",
       "    <tr>\n",
       "      <th>5</th>\n",
       "      <td>Spain</td>\n",
       "      <td>Male</td>\n",
       "      <td>1388</td>\n",
       "    </tr>\n",
       "  </tbody>\n",
       "</table>\n",
       "</div>"
      ],
      "text/plain": [
       "  Geography  Gender  IsActiveMember\n",
       "0    France  Female            2261\n",
       "1    France    Male            2753\n",
       "2   Germany  Female            1193\n",
       "3   Germany    Male            1316\n",
       "4     Spain  Female            1089\n",
       "5     Spain    Male            1388"
      ]
     },
     "execution_count": 14,
     "metadata": {},
     "output_type": "execute_result"
    }
   ],
   "source": [
    "\n",
    "abandono = datos_churn.groupby(['Geography','Gender']).count().reset_index()\n",
    "abandono =abandono.drop(['RowNumber','Surname','CreditScore','Age','CustomerId',\n",
    "                          'Tenure','Balance','NumOfProducts','HasCrCard',\n",
    "                           'EstimatedSalary','Exited'\n",
    "                          ],axis=1)\n",
    "abandono\n",
    "\n"
   ]
  },
  {
   "cell_type": "code",
   "execution_count": 15,
   "id": "a90a0fde-9974-4cc3-bb23-c345c813f17a",
   "metadata": {},
   "outputs": [],
   "source": [
    "import matplotlib.pyplot as plt"
   ]
  },
  {
   "cell_type": "markdown",
   "id": "f7844529-4a14-46b3-93e9-aa521c8ebfa3",
   "metadata": {},
   "source": [
    "##### Conteo Femenino"
   ]
  },
  {
   "cell_type": "code",
   "execution_count": 16,
   "id": "d0a66bba-1af4-47a4-9e10-bd26c6476b27",
   "metadata": {},
   "outputs": [
    {
     "data": {
      "text/html": [
       "<div>\n",
       "<style scoped>\n",
       "    .dataframe tbody tr th:only-of-type {\n",
       "        vertical-align: middle;\n",
       "    }\n",
       "\n",
       "    .dataframe tbody tr th {\n",
       "        vertical-align: top;\n",
       "    }\n",
       "\n",
       "    .dataframe thead th {\n",
       "        text-align: right;\n",
       "    }\n",
       "</style>\n",
       "<table border=\"1\" class=\"dataframe\">\n",
       "  <thead>\n",
       "    <tr style=\"text-align: right;\">\n",
       "      <th></th>\n",
       "      <th>Geography</th>\n",
       "      <th>Gender</th>\n",
       "      <th>IsActiveMember</th>\n",
       "    </tr>\n",
       "  </thead>\n",
       "  <tbody>\n",
       "    <tr>\n",
       "      <th>0</th>\n",
       "      <td>France</td>\n",
       "      <td>Female</td>\n",
       "      <td>2261</td>\n",
       "    </tr>\n",
       "    <tr>\n",
       "      <th>2</th>\n",
       "      <td>Germany</td>\n",
       "      <td>Female</td>\n",
       "      <td>1193</td>\n",
       "    </tr>\n",
       "    <tr>\n",
       "      <th>4</th>\n",
       "      <td>Spain</td>\n",
       "      <td>Female</td>\n",
       "      <td>1089</td>\n",
       "    </tr>\n",
       "  </tbody>\n",
       "</table>\n",
       "</div>"
      ],
      "text/plain": [
       "  Geography  Gender  IsActiveMember\n",
       "0    France  Female            2261\n",
       "2   Germany  Female            1193\n",
       "4     Spain  Female            1089"
      ]
     },
     "execution_count": 16,
     "metadata": {},
     "output_type": "execute_result"
    }
   ],
   "source": [
    "\n",
    "cont_f = abandono[abandono['Gender'] == 'Female']\n",
    "cont_f.head()"
   ]
  },
  {
   "cell_type": "markdown",
   "id": "e48f7b5d-5484-4f7f-8e01-4fc760273d8c",
   "metadata": {},
   "source": [
    "##### Conteo Masculino"
   ]
  },
  {
   "cell_type": "code",
   "execution_count": 17,
   "id": "ff142124-02e5-4809-82f9-bd5e92235be4",
   "metadata": {},
   "outputs": [
    {
     "data": {
      "text/html": [
       "<div>\n",
       "<style scoped>\n",
       "    .dataframe tbody tr th:only-of-type {\n",
       "        vertical-align: middle;\n",
       "    }\n",
       "\n",
       "    .dataframe tbody tr th {\n",
       "        vertical-align: top;\n",
       "    }\n",
       "\n",
       "    .dataframe thead th {\n",
       "        text-align: right;\n",
       "    }\n",
       "</style>\n",
       "<table border=\"1\" class=\"dataframe\">\n",
       "  <thead>\n",
       "    <tr style=\"text-align: right;\">\n",
       "      <th></th>\n",
       "      <th>Geography</th>\n",
       "      <th>Gender</th>\n",
       "      <th>IsActiveMember</th>\n",
       "    </tr>\n",
       "  </thead>\n",
       "  <tbody>\n",
       "    <tr>\n",
       "      <th>1</th>\n",
       "      <td>France</td>\n",
       "      <td>Male</td>\n",
       "      <td>2753</td>\n",
       "    </tr>\n",
       "    <tr>\n",
       "      <th>3</th>\n",
       "      <td>Germany</td>\n",
       "      <td>Male</td>\n",
       "      <td>1316</td>\n",
       "    </tr>\n",
       "    <tr>\n",
       "      <th>5</th>\n",
       "      <td>Spain</td>\n",
       "      <td>Male</td>\n",
       "      <td>1388</td>\n",
       "    </tr>\n",
       "  </tbody>\n",
       "</table>\n",
       "</div>"
      ],
      "text/plain": [
       "  Geography Gender  IsActiveMember\n",
       "1    France   Male            2753\n",
       "3   Germany   Male            1316\n",
       "5     Spain   Male            1388"
      ]
     },
     "execution_count": 17,
     "metadata": {},
     "output_type": "execute_result"
    }
   ],
   "source": [
    "\n",
    "cont_m = abandono[abandono['Gender'] == 'Male']\n",
    "cont_m.head()"
   ]
  },
  {
   "cell_type": "markdown",
   "id": "7046eaf9-4813-4957-bf7e-ade693cbc9a4",
   "metadata": {},
   "source": [
    "##### Con ayuda de `matplotlib`, y los métodos `.bar` y `.xticks`, se creará una representación gráfica a la pregunta planteada."
   ]
  },
  {
   "cell_type": "code",
   "execution_count": 19,
   "id": "9cebe836-33b6-41ce-8914-1e8c1c96e3dd",
   "metadata": {},
   "outputs": [
    {
     "data": {
      "image/png": "[encoded data removed]",
      "text/plain": [
       "<Figure size 432x288 with 1 Axes>"
      ]
     },
     "metadata": {
      "needs_background": "light"
     },
     "output_type": "display_data"
    }
   ],
   "source": [
    "import numpy as np\n",
    "\n",
    "# grafica tipo groupped\n",
    "width = 0.35\n",
    "labels = cont_m['Geography']\n",
    "x = np.arange(len(labels))\n",
    "\n",
    "# pintando las barras\n",
    "plt.bar(x + width/2, cont_m['IsActiveMember'], width, label = 'M')\n",
    "plt.bar(x - width/2, cont_f['IsActiveMember'], width, label = 'F')\n",
    "\n",
    "# cambiando el eje x a los paises\n",
    "plt.xticks(x,labels)\n",
    "\n",
    "# incluyendo leyenda\n",
    "plt.legend()\n",
    "plt.show()\n",
    "\n"
   ]
  },
  {
   "cell_type": "markdown",
   "id": "c05a225e-39de-4ab3-b23d-8cb6e0b67812",
   "metadata": {},
   "source": [
    "### 5. ¿Cuál es la edad promedio de mayor abandodo en el banco?\n"
   ]
  },
  {
   "cell_type": "code",
   "execution_count": 20,
   "id": "327a24d4-34e9-46b9-a0e7-3097a23e3430",
   "metadata": {},
   "outputs": [
    {
     "name": "stdout",
     "output_type": "stream",
     "text": [
      "PROMEDIO DE EDAD DE MAYOR ABANDONO: 38.9218\n"
     ]
    }
   ],
   "source": [
    "print('PROMEDIO DE EDAD DE MAYOR ABANDONO:', datos_churn['Age'].mean())"
   ]
  },
  {
   "cell_type": "markdown",
   "id": "34ed956c-9775-487f-b365-a6a40cf617b2",
   "metadata": {},
   "source": [
    "### 6. ¿Cuál es edad mínima y máxima de los clientes del banco?"
   ]
  },
  {
   "cell_type": "code",
   "execution_count": 21,
   "id": "065df0de-cee6-4f11-b901-1ac81bcfe92a",
   "metadata": {},
   "outputs": [
    {
     "name": "stdout",
     "output_type": "stream",
     "text": [
      "EDAD MÍNIMA DE CLIENTE: 18\n",
      "EDAD MÁXIMA DE CLIENTE: 92\n"
     ]
    }
   ],
   "source": [
    "Edad_minima= datos_churn['Age'].min()\n",
    "print('EDAD MÍNIMA DE CLIENTE:', Edad_minima)\n",
    "\n",
    "Edad_maxima= datos_churn['Age'].max()\n",
    "print('EDAD MÁXIMA DE CLIENTE:', Edad_maxima)\n"
   ]
  },
  {
   "cell_type": "markdown",
   "id": "3dd1c788-267b-4129-8c73-b37fac68a849",
   "metadata": {},
   "source": [
    "### 7. ¿Cuál es la edad promedio de mayor abandodo por cada país?"
   ]
  },
  {
   "cell_type": "code",
   "execution_count": 22,
   "id": "7d7b8e8e-1214-48d1-a90a-d0a4ec2800e5",
   "metadata": {},
   "outputs": [],
   "source": [
    "Abandono_E = datos_churn[datos_churn['Geography'] == 'Spain']\n",
    "Abandono_F = datos_churn[datos_churn['Geography'] == 'France']\n",
    "Abandono_A = datos_churn[datos_churn['Geography'] == 'Germany']\n"
   ]
  },
  {
   "cell_type": "code",
   "execution_count": 23,
   "id": "10d2bfa1-0d8f-49ca-b2af-15f7dbfae3e8",
   "metadata": {},
   "outputs": [
    {
     "name": "stdout",
     "output_type": "stream",
     "text": [
      "PROMEDIO DE EDAD ABANDONO ESPAÑA: 38.89099717400081\n",
      "PROMEDIO DE EDAD ABANDONO FRANCIA: 38.51176705225369\n",
      "PROMEDIO DE EDAD ABANDONO ALEMANIA: 39.771622160223195\n"
     ]
    }
   ],
   "source": [
    "print('PROMEDIO DE EDAD ABANDONO ESPAÑA:', Abandono_E['Age'].mean())\n",
    "print('PROMEDIO DE EDAD ABANDONO FRANCIA:', Abandono_F['Age'].mean())\n",
    "print('PROMEDIO DE EDAD ABANDONO ALEMANIA:', Abandono_A['Age'].mean())"
   ]
  },
  {
   "cell_type": "markdown",
   "id": "9112b6e9-5367-4f8f-851c-9aebb5a48200",
   "metadata": {},
   "source": [
    "### 8. ¿Cuál es el saldo deudor de los clientes que han abandonado la cartera?"
   ]
  },
  {
   "cell_type": "code",
   "execution_count": 24,
   "id": "e97ec89b-00f4-44db-94b9-719c1080b59a",
   "metadata": {},
   "outputs": [
    {
     "data": {
      "text/plain": [
       "374024593.41"
      ]
     },
     "execution_count": 24,
     "metadata": {},
     "output_type": "execute_result"
    }
   ],
   "source": [
    "Saldo_Inactivos = datos_churn[datos_churn['IsActiveMember'] == 0]\n",
    "Saldo_Inactivos['Balance'].sum()"
   ]
  },
  {
   "cell_type": "markdown",
   "id": "a891a478-c9e8-483f-a6b8-56311ad05e8f",
   "metadata": {},
   "source": [
    "### 9. ¿Cuál es el saldo deudor de los clientes que están en riesgo de abandono?"
   ]
  },
  {
   "cell_type": "code",
   "execution_count": 25,
   "id": "b0e0503e-23e6-4d06-b5c1-19bdcd5fccfa",
   "metadata": {},
   "outputs": [
    {
     "data": {
      "text/plain": [
       "390834299.47"
      ]
     },
     "execution_count": 25,
     "metadata": {},
     "output_type": "execute_result"
    }
   ],
   "source": [
    "Saldo_Riesgo = datos_churn[datos_churn['IsActiveMember'] == 1]\n",
    "Saldo_Riesgo['Balance'].sum()"
   ]
  },
  {
   "cell_type": "markdown",
   "id": "717c3b1d-52b8-41a6-968f-38bf3ea1a2e8",
   "metadata": {},
   "source": [
    "### 10. ¿Cúal es el saldo deudor de la cartera por género?"
   ]
  },
  {
   "cell_type": "code",
   "execution_count": 26,
   "id": "b88aca33-0ce1-4459-9133-5fcc579008b7",
   "metadata": {},
   "outputs": [],
   "source": [
    "Deuda_F = datos_churn[datos_churn['Gender'] == 'Female']\n",
    "Deuda_M = datos_churn[datos_churn['Gender'] == 'Male']\n"
   ]
  },
  {
   "cell_type": "code",
   "execution_count": 27,
   "id": "d8a2d406-c975-4707-af70-bf53b721edf3",
   "metadata": {},
   "outputs": [
    {
     "name": "stdout",
     "output_type": "stream",
     "text": [
      "DEUDA GÉNERO FEMENINO: 343720514.0\n",
      "DEUDA GÉNERO MASCULINO: 421138378.88\n"
     ]
    }
   ],
   "source": [
    "print('DEUDA GÉNERO FEMENINO:', Deuda_F['Balance'].sum())\n",
    "print('DEUDA GÉNERO MASCULINO:', Deuda_M['Balance'].sum())\n"
   ]
  },
  {
   "cell_type": "markdown",
   "id": "29f64fe3-364a-4fef-bb9e-96c07c8945c1",
   "metadata": {},
   "source": [
    "##### Para contestar la secuencia de preguntas de la 5 a la 10, se han aplicado distintas funciones de las librerias `Numpy` y `Pandas` como son:\n",
    "\n",
    "##### `.sum()`   para conseguir una suma.\n",
    "##### `.mean()`  para obtener la mediana o el promedio.\n",
    "##### `.min()`   para conseguir el mínimo valor.\n",
    "##### `.max()`   para conseguir el máximo valor.\n",
    "\n",
    "##### Todas estas funciones también se pueden obtener utilizando la función `.describe()` de `Pandas` , el cuál muestra un resúmen estadístico de diferentes resultados , como ejemplo se ejecuta en la preunta 11."
   ]
  },
  {
   "cell_type": "markdown",
   "id": "51a23615-e55a-4fb7-b293-b5cd711f749f",
   "metadata": {},
   "source": [
    "### 11. Algunas estadísticas con el CreditScore:"
   ]
  },
  {
   "cell_type": "code",
   "execution_count": 30,
   "id": "65d1eebb-5371-4c40-bc5d-7c69d71c95d1",
   "metadata": {},
   "outputs": [
    {
     "data": {
      "text/plain": [
       "count    10000.000000\n",
       "mean       650.528800\n",
       "std         96.653299\n",
       "min        350.000000\n",
       "25%        584.000000\n",
       "50%        652.000000\n",
       "75%        718.000000\n",
       "max        850.000000\n",
       "Name: CreditScore, dtype: float64"
      ]
     },
     "execution_count": 30,
     "metadata": {},
     "output_type": "execute_result"
    }
   ],
   "source": [
    "Estadistica_Saldos = datos_churn['CreditScore'].describe()\n",
    "Estadistica_Saldos"
   ]
  },
  {
   "cell_type": "markdown",
   "id": "d58a9aec-c407-4d82-8994-ac602fef1904",
   "metadata": {},
   "source": [
    "### 12. Ejemplos de (EDA) Análisis de Datos Exploratorios con `DataPrep`"
   ]
  },
  {
   "cell_type": "code",
   "execution_count": null,
   "id": "03d3cbbc-c477-480b-99bd-bba351ccf18b",
   "metadata": {},
   "outputs": [],
   "source": []
  }
 ],
 "metadata": {
  "kernelspec": {
   "display_name": "Python 3 (ipykernel)",
   "language": "python",
   "name": "python3"
  },
  "language_info": {
   "codemirror_mode": {
    "name": "ipython",
    "version": 3
   },
   "file_extension": ".py",
   "mimetype": "text/x-python",
   "name": "python",
   "nbconvert_exporter": "python",
   "pygments_lexer": "ipython3",
   "version": "3.9.7"
  }
 },
 "nbformat": 4,
 "nbformat_minor": 5
}
