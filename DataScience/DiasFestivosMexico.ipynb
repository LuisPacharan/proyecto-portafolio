{
 "cells": [
  {
   "cell_type": "code",
   "execution_count": 12,
   "id": "79540852",
   "metadata": {
    "scrolled": true
   },
   "outputs": [
    {
     "name": "stdout",
     "output_type": "stream",
     "text": [
      "          nombre\n",
      "fecha           \n",
      "Monday         5\n",
      "Friday         2\n",
      "Saturday       2\n",
      "Sunday         2\n"
     ]
    }
   ],
   "source": [
    "import pandas as pd\n",
    "from workalendar.america import Mexico\n",
    "cal = Mexico()\n",
    "feriados = cal.holidays(2022)\n",
    "\n",
    "df=pd.DataFrame(feriados,columns=['fecha','nombre'])\n",
    "df['fecha'] = pd.to_datetime(df['fecha'])\n",
    "df['fecha'] = df['fecha'].dt.day_name()\n",
    "df=df.groupby('fecha').count().sort_values('nombre',ascending = False)\n",
    "print(df)"
   ]
  },
  {
   "cell_type": "code",
   "execution_count": null,
   "id": "6aa7c397",
   "metadata": {},
   "outputs": [],
   "source": []
  }
 ],
 "metadata": {
  "kernelspec": {
   "display_name": "Python 3 (ipykernel)",
   "language": "python",
   "name": "python3"
  },
  "language_info": {
   "codemirror_mode": {
    "name": "ipython",
    "version": 3
   },
   "file_extension": ".py",
   "mimetype": "text/x-python",
   "name": "python",
   "nbconvert_exporter": "python",
   "pygments_lexer": "ipython3",
   "version": "3.9.7"
  }
 },
 "nbformat": 4,
 "nbformat_minor": 5
}
